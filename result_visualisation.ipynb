{
 "cells": [
  {
   "cell_type": "markdown",
   "id": "de9e85cf",
   "metadata": {},
   "source": [
    "Notebook to inspect the steps of the Neural Slicer code"
   ]
  },
  {
   "cell_type": "code",
   "execution_count": 1,
   "id": "d70a2354",
   "metadata": {},
   "outputs": [],
   "source": [
    "from pathlib import Path\n",
    "import numpy as np\n",
    "import pyvista as pv\n",
    "from utils.pv_tetIO import loadTet\n",
    "\n",
    "pv.start_xvfb()\n",
    "# Change to \"html\" for dynamic plots in Jupyter - if using html, on each cloud instance boot-up, you currently need to install the `jupyter-widgets` extension from the JupyterLab extension tab in this window and refresh the page.\n",
    "pv.set_jupyter_backend('html')"
   ]
  },
  {
   "cell_type": "code",
   "execution_count": 2,
   "id": "6c68559d",
   "metadata": {},
   "outputs": [
    {
     "name": "stdout",
     "output_type": "stream",
     "text": [
      "Original geometry path: data/TET_MODEL/spiral_fish.tet\n",
      "Pulling results from: data/results/spiral_fish/2025_04_10-14_57_50\n"
     ]
    }
   ],
   "source": [
    "EXPERIMENT_NAME = \"spiral_fish\"\n",
    "\n",
    "original_geometry_dir = Path(\"./data/TET_MODEL\")\n",
    "# Find the file in the original geometry directory with the same name as the experiment\n",
    "original_geometry_file = next(original_geometry_dir.glob(f\"{EXPERIMENT_NAME}*\"))\n",
    "\n",
    "all_results_dir =  Path(\"./data/results\") / EXPERIMENT_NAME\n",
    "# Find the latest experiment directory\n",
    "latest_experiment_dir = max(all_results_dir.iterdir(), key=lambda x: x.stat().st_mtime)\n",
    "# Get path of highest numbered heightField_[number].txt file\n",
    "latest_height_field_file = max(latest_experiment_dir.glob(\"heightField_*.txt\"), key=lambda x: x.stat().st_mtime)\n",
    "\n",
    "print(f\"Original geometry path: {original_geometry_file}\")\n",
    "print(f\"Pulling results from: {latest_experiment_dir}\")"
   ]
  },
  {
   "cell_type": "markdown",
   "id": "d23791cf",
   "metadata": {},
   "source": [
    "### Step 0: Original Geometry"
   ]
  },
  {
   "cell_type": "code",
   "execution_count": 3,
   "id": "32f025d3",
   "metadata": {},
   "outputs": [
    {
     "data": {
      "application/vnd.jupyter.widget-view+json": {
       "model_id": "b2008dd3ca6d43ab98e1ad666f279326",
       "version_major": 2,
       "version_minor": 0
      },
      "text/plain": [
       "EmbeddableWidget(value='<iframe srcdoc=\"<!DOCTYPE html>\\n<html>\\n  <head>\\n    <meta http-equiv=&quot;Content-…"
      ]
     },
     "metadata": {},
     "output_type": "display_data"
    }
   ],
   "source": [
    "original_mesh = loadTet(original_geometry_file)\n",
    "original_mesh.plot()"
   ]
  },
  {
   "cell_type": "markdown",
   "id": "f0ff19b6",
   "metadata": {
    "vscode": {
     "languageId": "plaintext"
    }
   },
   "source": [
    "### Step 1: Cage-based Field Generation\n",
    "\n",
    "See results from running `main.py`"
   ]
  },
  {
   "cell_type": "code",
   "execution_count": 4,
   "id": "6ba149dc",
   "metadata": {},
   "outputs": [],
   "source": [
    "deformed_surface_mesh = pv.read(latest_experiment_dir / \"outCage.obj\")"
   ]
  },
  {
   "cell_type": "code",
   "execution_count": 5,
   "id": "ef127f6a",
   "metadata": {},
   "outputs": [
    {
     "data": {
      "application/vnd.jupyter.widget-view+json": {
       "model_id": "34b769e859d943eeaa8808e0ef3bcc0e",
       "version_major": 2,
       "version_minor": 0
      },
      "text/plain": [
       "EmbeddableWidget(value='<iframe srcdoc=\"<!DOCTYPE html>\\n<html>\\n  <head>\\n    <meta http-equiv=&quot;Content-…"
      ]
     },
     "metadata": {},
     "output_type": "display_data"
    }
   ],
   "source": [
    "pl = pv.Plotter()\n",
    "\n",
    "original_mesh = loadTet(original_geometry_file)\n",
    "pl.add_mesh(original_mesh, name=\"Original Mesh\", opacity=0.25, color=\"blue\")\n",
    "pl.add_mesh(deformed_surface_mesh, name=\"Deformed Mesh\", opacity=1.0, color=\"red\")\n",
    "pl.show()"
   ]
  },
  {
   "cell_type": "code",
   "execution_count": 6,
   "id": "8aaf2d88",
   "metadata": {},
   "outputs": [
    {
     "name": "stdout",
     "output_type": "stream",
     "text": [
      "Latest optimisation of coordinates found in data/results/spiral_fish/2025_04_10-14_57_50/heightField_5000.txt\n"
     ]
    }
   ],
   "source": [
    "print(f\"Latest optimisation of coordinates found in {latest_height_field_file}\")\n",
    "all_optimised_coordinates = np.loadtxt(latest_height_field_file)\n",
    "assert len(all_optimised_coordinates) == len(original_mesh.points), \"Height field file should have the same number of points as the original mesh\""
   ]
  }
 ],
 "metadata": {
  "kernelspec": {
   "display_name": ".venv",
   "language": "python",
   "name": "python3"
  },
  "language_info": {
   "codemirror_mode": {
    "name": "ipython",
    "version": 3
   },
   "file_extension": ".py",
   "mimetype": "text/x-python",
   "name": "python",
   "nbconvert_exporter": "python",
   "pygments_lexer": "ipython3",
   "version": "3.11.11"
  }
 },
 "nbformat": 4,
 "nbformat_minor": 5
}
